{
 "cells": [
  {
   "cell_type": "code",
   "execution_count": null,
   "metadata": {},
   "outputs": [],
   "source": [
    "\n",
    "    from nwbwidgets import nwb2widget\n",
    "    import pynwb\n",
    "    from pathlib import Path\n",
    "    fpath = os.path.join(r'/home/vinicius/Área de Trabalho/Trabalhos/neuro/data/102086.nwb')\n",
    "    io = pynwb.NWBHDF5IO(fpath, 'r', load_namespaces=True)\n",
    "    nwb = io.read()\n",
    "    nwb2widget(nwb)\n",
    "    "
   ]
  }
 ],
 "metadata": {},
 "nbformat": 4,
 "nbformat_minor": 4
}
