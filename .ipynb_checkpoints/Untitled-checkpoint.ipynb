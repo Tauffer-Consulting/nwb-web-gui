{
 "cells": [
  {
   "cell_type": "code",
   "execution_count": 1,
   "metadata": {},
   "outputs": [],
   "source": [
    "from copy import deepcopy\n",
    "\n",
    "\n",
    "def get_schema(docval):\n",
    "    schema_base = dict(\n",
    "        required=[],\n",
    "        properties={},\n",
    "        type='object',\n",
    "        additionalProperties=False)\n",
    "\n",
    "    schema = deepcopy(schema_base)\n",
    "\n",
    "    for docval_arg in docval['args']:\n",
    "        if docval_arg['type'] is str or (isinstance(docval_arg['type'], tuple) and str in docval_arg['type']):\n",
    "            schema['properties'][docval_arg['name']] = {'type':'string', 'description':docval_arg['doc']}\n",
    "            if 'default' in docval_arg:\n",
    "                if docval_arg['default'] is not None:\n",
    "                    schema['properties'][docval_arg['name']]['default'] = docval_arg['default']\n",
    "            else:\n",
    "                schema['required'].append(docval_arg['name'])\n",
    "\n",
    "    return schema\n",
    "\n",
    "\n",
    "def get_schema_from_hdmf_class(hdmf_class):\n",
    "    return get_schema(hdmf_class.__init__.__docval__)"
   ]
  },
  {
   "cell_type": "code",
   "execution_count": 2,
   "metadata": {},
   "outputs": [],
   "source": [
    "from pynwb import NWBHDF5IO\n",
    "io = NWBHDF5IO('/home/vinicius/Área de Trabalho/Trabalhos/neuro_react/data/102086.nwb', mode='r')\n",
    "nwb = io.read()\n",
    "schema = get_schema_from_hdmf_class(nwb.acquisition)"
   ]
  },
  {
   "cell_type": "code",
   "execution_count": 3,
   "metadata": {},
   "outputs": [
    {
     "data": {
      "text/plain": [
       "{'required': ['label'],\n",
       " 'properties': {'label': {'type': 'string',\n",
       "   'description': 'the label on this dictionary'},\n",
       "  'def_key_name': {'type': 'string',\n",
       "   'description': 'the default key name',\n",
       "   'default': 'name'}},\n",
       " 'type': 'object',\n",
       " 'additionalProperties': False}"
      ]
     },
     "execution_count": 3,
     "metadata": {},
     "output_type": "execute_result"
    }
   ],
   "source": [
    "schema"
   ]
  },
  {
   "cell_type": "code",
   "execution_count": 10,
   "metadata": {},
   "outputs": [],
   "source": [
    "import yaml\n",
    "\n",
    "def yaml_to_json(yaml):\n",
    "    forms_list = []\n",
    "    \n",
    "    for e in yaml:\n",
    "        schema_base = dict(\n",
    "            required=[],\n",
    "            properties={},\n",
    "            type='object',\n",
    "            additionalProperties=False)\n",
    "        \n",
    "        for k,v in yaml[e].items():\n",
    "            if k[0].islower(): # check if subgroup\n",
    "                schema_base['required'].append(k)\n",
    "                if 'time' not in k:\n",
    "                    schema_base['properties'][k] = {\n",
    "                        'type': 'string',\n",
    "                        'default':v,\n",
    "                    }\n",
    "                else:\n",
    "                    schema_base['properties'][k] = {\n",
    "                        'type': 'string',\n",
    "                        'format': 'date-time',\n",
    "                    }\n",
    "            else:\n",
    "                if isinstance(yaml[e][k], list):\n",
    "                    for element in yaml[e][k]:\n",
    "                        for key, val in element.items():\n",
    "                            if isinstance(element[key], list):\n",
    "                                for item in element[key]:\n",
    "                                    for i, value in item.items():\n",
    "                                        form_name = '{} {} {} {}'.format(e, k, key, i)\n",
    "                                        schema_base['required'].append(i)\n",
    "                                        schema_base['properties'][form_name] = {\n",
    "                                            'type':'string',\n",
    "                                            'default': value\n",
    "                                        }\n",
    "                            else:\n",
    "                                form_name = '{} {} {}'.format(e,k,key)\n",
    "                                schema_base['required'].append(key)\n",
    "                                schema_base['properties'][form_name] = {\n",
    "                                    'type': 'string',\n",
    "                                    'default': val\n",
    "                                }\n",
    "\n",
    "        forms_list.append({e:schema_base})\n",
    "    return forms_list"
   ]
  },
  {
   "cell_type": "code",
   "execution_count": 11,
   "metadata": {},
   "outputs": [],
   "source": [
    "forms = yaml_to_json(metadata)"
   ]
  },
  {
   "cell_type": "code",
   "execution_count": 12,
   "metadata": {},
   "outputs": [],
   "source": [
    "path_yaml = '/home/vinicius/Área de Trabalho/Trabalhos/neuro/data/metadata.yaml'"
   ]
  },
  {
   "cell_type": "code",
   "execution_count": 13,
   "metadata": {},
   "outputs": [],
   "source": [
    "with open(path_yaml) as f:\n",
    "    metadata = yaml.safe_load(f)"
   ]
  },
  {
   "cell_type": "code",
   "execution_count": null,
   "metadata": {},
   "outputs": [],
   "source": []
  }
 ],
 "metadata": {
  "kernelspec": {
   "display_name": "Python 3",
   "language": "python",
   "name": "python3"
  },
  "language_info": {
   "codemirror_mode": {
    "name": "ipython",
    "version": 3
   },
   "file_extension": ".py",
   "mimetype": "text/x-python",
   "name": "python",
   "nbconvert_exporter": "python",
   "pygments_lexer": "ipython3",
   "version": "3.6.9"
  }
 },
 "nbformat": 4,
 "nbformat_minor": 4
}
